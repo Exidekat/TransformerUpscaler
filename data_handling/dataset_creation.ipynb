{
 "cells": [
  {
   "cell_type": "code",
   "execution_count": null,
   "metadata": {},
   "outputs": [],
   "source": [
    "import pandas as pd\n",
    "from io import BytesIO\n",
    "from PIL import Image\n",
    "import requests\n",
    "import os"
   ]
  },
  {
   "cell_type": "code",
   "execution_count": null,
   "metadata": {},
   "outputs": [],
   "source": [
    "df = pd.read_parquet(\"hf://datasets/bghira/photo-concept-bucket/photo-concept-bucket.parquet\")"
   ]
  },
  {
   "cell_type": "code",
   "execution_count": null,
   "metadata": {},
   "outputs": [],
   "source": [
    "# Confirm that the data is loaded and column of url exists\n",
    "df.head(1)"
   ]
  },
  {
   "cell_type": "code",
   "execution_count": null,
   "metadata": {},
   "outputs": [],
   "source": [
    "index = 0\n",
    "# I want 200 images\n",
    "output_dir = '../images/training_set/'\n",
    "if not os.path.exists(output_dir):\n",
    "    os.makedirs(output_dir, exist_ok=True)\n",
    "img_num = 0\n",
    "while len(os.listdir(output_dir)) < 300:\n",
    "    url = df.iloc[index]['url']\n",
    "    \n",
    "    response = requests.get(url)\n",
    "    image = None\n",
    "    if response.status_code == 200:\n",
    "        image = Image.open(BytesIO(response.content))\n",
    "    else:\n",
    "        index += 1\n",
    "        continue\n",
    "    \n",
    "    width, height = image.size\n",
    "    \n",
    "    # Keep only images >= 4k resolution\n",
    "    if width < 3840 and height < 2160:\n",
    "        index += 1\n",
    "        continue\n",
    "\n",
    "    # Cropping image to 3840x2160 by getting a box in the center of larger image\n",
    "    # Center box on image\n",
    "    target_width, target_height = 3840, 2160\n",
    "    left = (width - target_width) // 2\n",
    "    top = (height - target_height) // 2\n",
    "    right = left + target_width\n",
    "    bottom = top + target_height\n",
    "    crop_box = (left, top, right, bottom)\n",
    "    cropped_image = image.crop(crop_box)\n",
    "    \n",
    "    cropped_image.save(f'{output_dir}image_{img_num}.png')\n",
    "    img_num += 1\n",
    "    index += 1"
   ]
  },
  {
   "cell_type": "code",
   "execution_count": null,
   "metadata": {},
   "outputs": [],
   "source": []
  }
 ],
 "metadata": {
  "kernelspec": {
   "display_name": "pytorch",
   "language": "python",
   "name": "python3"
  },
  "language_info": {
   "codemirror_mode": {
    "name": "ipython",
    "version": 3
   },
   "file_extension": ".py",
   "mimetype": "text/x-python",
   "name": "python",
   "nbconvert_exporter": "python",
   "pygments_lexer": "ipython3",
   "version": "3.12.7"
  }
 },
 "nbformat": 4,
 "nbformat_minor": 2
}
